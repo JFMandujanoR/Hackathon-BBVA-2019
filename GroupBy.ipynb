{
 "cells": [
  {
   "cell_type": "code",
   "execution_count": 3,
   "metadata": {},
   "outputs": [
    {
     "ename": "ModuleNotFoundError",
     "evalue": "No module named 'pyspark'",
     "output_type": "error",
     "traceback": [
      "\u001b[0;31m---------------------------------------------------------------------------\u001b[0m",
      "\u001b[0;31mModuleNotFoundError\u001b[0m                       Traceback (most recent call last)",
      "\u001b[0;32m<ipython-input-3-5eea25e28fc8>\u001b[0m in \u001b[0;36m<module>\u001b[0;34m\u001b[0m\n\u001b[0;32m----> 1\u001b[0;31m \u001b[0;32mimport\u001b[0m \u001b[0mpyspark\u001b[0m\u001b[0;34m\u001b[0m\u001b[0;34m\u001b[0m\u001b[0m\n\u001b[0m\u001b[1;32m      2\u001b[0m \u001b[0;32mfrom\u001b[0m \u001b[0mpyspark\u001b[0m\u001b[0;34m.\u001b[0m\u001b[0msql\u001b[0m \u001b[0;32mimport\u001b[0m \u001b[0mSQLContext\u001b[0m\u001b[0;34m\u001b[0m\u001b[0;34m\u001b[0m\u001b[0m\n\u001b[1;32m      3\u001b[0m \u001b[0;32mimport\u001b[0m \u001b[0mpandas\u001b[0m \u001b[0;32mas\u001b[0m \u001b[0mpd\u001b[0m\u001b[0;34m\u001b[0m\u001b[0;34m\u001b[0m\u001b[0m\n\u001b[1;32m      4\u001b[0m \u001b[0;32mfrom\u001b[0m \u001b[0mos\u001b[0m \u001b[0;32mimport\u001b[0m \u001b[0mlistdir\u001b[0m\u001b[0;34m\u001b[0m\u001b[0;34m\u001b[0m\u001b[0m\n\u001b[1;32m      5\u001b[0m \u001b[0;32mfrom\u001b[0m \u001b[0mos\u001b[0m\u001b[0;34m.\u001b[0m\u001b[0mpath\u001b[0m \u001b[0;32mimport\u001b[0m \u001b[0misfile\u001b[0m\u001b[0;34m,\u001b[0m \u001b[0mjoin\u001b[0m\u001b[0;34m\u001b[0m\u001b[0;34m\u001b[0m\u001b[0m\n",
      "\u001b[0;31mModuleNotFoundError\u001b[0m: No module named 'pyspark'"
     ]
    }
   ],
   "source": [
    "import pyspark\n",
    "from pyspark.sql import SQLContext\n",
    "import pandas as pd\n",
    "from os import listdir\n",
    "from os.path import isfile, join\n",
    "import datetime\n",
    "import os\n",
    "\n",
    "def daterange(date1, date2):\n",
    "    for n in range(int ((date2 - date1).days)+1):\n",
    "        yield date1 + datetime.timedelta(n)\n"
   ]
  },
  {
   "cell_type": "code",
   "execution_count": 2,
   "metadata": {},
   "outputs": [],
   "source": [
    "sc = SparkContext.getOrCreate();\n",
    "sql_sc=SQLContext(sc)"
   ]
  },
  {
   "cell_type": "code",
   "execution_count": 7,
   "metadata": {},
   "outputs": [
    {
     "name": "stdout",
     "output_type": "stream",
     "text": [
      "['sar_DB_credito.csv']\n",
      "credito\n"
     ]
    }
   ],
   "source": [
    "path=\"/home/angel/hackathon/twitter/DB_3/\"\n",
    "files = [f for f in listdir(path) if isfile(join(path, f))]\n",
    "basenames=[]\n",
    "print(files)\n",
    "resume = pd.DataFrame()\n",
    "for file in files:\n",
    "    base=os.path.basename(file)\n",
    "    basename = os.path.splitext(base)[0]\n",
    "    basenames.append(basename);\n",
    "#    print(path+file)\n",
    "    info = pd.read_csv(path+file)\n",
    "    resume.fillna(0)\n",
    "    info['date'] = info['date'].map(lambda x: x[0:10])\n",
    "    info['date']=pd.to_datetime(info['date'] )\n",
    "    info['SA'] = info['SA'].map(lambda x: (float(x)-.5)*2)\n",
    "    print(basename[7:])\n",
    "    resume[basename[7:]] = info.groupby(\"date\")['SA'].sum()\n",
    "\n",
    "start_dt = datetime.date(2017, 4, 22)\n",
    "end_dt = datetime.date(2019, 5, 31)\n",
    "\n",
    "dummy = pd.DataFrame()\n",
    "for dt in daterange(start_dt, end_dt):\n",
    "    dummy[dt] = 0;\n",
    "\n",
    "#resume = pd.merge(dummy, resume)\n",
    "\n",
    "answer = dummy.join(resume)\n",
    "\n",
    "resume = resume.fillna(0)\n",
    "\n",
    "resume[basename[7:]] = resume[basename[7:]].map(lambda x : round(x));\n",
    "\n",
    "resume.to_csv(\"count.csv\");"
   ]
  },
  {
   "cell_type": "code",
   "execution_count": null,
   "metadata": {},
   "outputs": [],
   "source": []
  }
 ],
 "metadata": {
  "kernelspec": {
   "display_name": "Python 3",
   "language": "python",
   "name": "python3"
  },
  "language_info": {
   "codemirror_mode": {
    "name": "ipython",
    "version": 3
   },
   "file_extension": ".py",
   "mimetype": "text/x-python",
   "name": "python",
   "nbconvert_exporter": "python",
   "pygments_lexer": "ipython3",
   "version": "3.7.4"
  }
 },
 "nbformat": 4,
 "nbformat_minor": 2
}
