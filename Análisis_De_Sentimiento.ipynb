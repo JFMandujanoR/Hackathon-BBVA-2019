{
 "cells": [
  {
   "cell_type": "markdown",
   "metadata": {},
   "source": [
    "### Análisis de sentimiento"
   ]
  },
  {
   "cell_type": "code",
   "execution_count": 1,
   "metadata": {},
   "outputs": [],
   "source": [
    "import pyspark\n",
    "from pyspark.sql import SQLContext\n",
    "import pandas as pd\n",
    "from os import listdir\n",
    "from os.path import isfile, join\n",
    "import datetime"
   ]
  },
  {
   "cell_type": "code",
   "execution_count": 2,
   "metadata": {},
   "outputs": [],
   "source": [
    "sc = SparkContext.getOrCreate();\n",
    "sql_sc=SQLContext(sc)"
   ]
  },
  {
   "cell_type": "code",
   "execution_count": 3,
   "metadata": {},
   "outputs": [
    {
     "name": "stderr",
     "output_type": "stream",
     "text": [
      "/home/salim/anaconda3/envs/Hackathon5/lib/python3.7/site-packages/sklearn/externals/joblib/__init__.py:15: DeprecationWarning: sklearn.externals.joblib is deprecated in 0.21 and will be removed in 0.23. Please import this functionality directly from joblib, which can be installed with: pip install joblib. If this warning is raised when loading pickled models, you may need to re-serialize those models with scikit-learn 0.21+.\n",
      "  warnings.warn(msg, category=DeprecationWarning)\n"
     ]
    }
   ],
   "source": [
    "from classifier import *"
   ]
  },
  {
   "cell_type": "code",
   "execution_count": 4,
   "metadata": {},
   "outputs": [],
   "source": [
    "clf = SentimentClassifier()"
   ]
  },
  {
   "cell_type": "code",
   "execution_count": 5,
   "metadata": {},
   "outputs": [
    {
     "name": "stdout",
     "output_type": "stream",
     "text": [
      "['DB_asaltaron.csv', 'DB_crédito.csv']\n",
      "/home/salim/Hackathon/DB/DB_asaltaron.csv   DB_asaltaron.csv\n",
      "/home/salim/Hackathon/DB/DB_crédito.csv   DB_crédito.csv\n"
     ]
    }
   ],
   "source": [
    "path=\"/home/salim/Hackathon/DB/\"\n",
    "files = [f for f in listdir(path) if isfile(join(path, f))]\n",
    "basenames=[]\n",
    "print(files)\n",
    "resume = pd.DataFrame()\n",
    "for file in files:\n",
    "    base=os.path.basename(file)\n",
    "    basename = os.path.splitext(base)[0]\n",
    "    basenames.append(basename);\n",
    "    print(path+file, \" \", base)\n",
    "    info = pd.read_csv(path+file)\n",
    "    info['SA'] = 0\n",
    "    info['date'] = info['date'].map(lambda x: x[0:10])\n",
    "    info['SA'] = info['text'].map(lambda x: clf.predict(str(x)))\n",
    "    info['date']=pd.to_datetime(info['date'] )\n",
    "    #resume[basename[3:]] = info.groupby(\"date\").count()['username']\n",
    "    info.to_csv(path+\"sa_\"+file);\n",
    "\n",
    "\n",
    "#resume = resume.fillna(0)\n",
    "\n",
    "#resume.to_csv(\"count.csv\");"
   ]
  },
  {
   "cell_type": "code",
   "execution_count": null,
   "metadata": {},
   "outputs": [],
   "source": []
  }
 ],
 "metadata": {
  "kernelspec": {
   "display_name": "Python 3",
   "language": "python",
   "name": "python3"
  },
  "language_info": {
   "codemirror_mode": {
    "name": "ipython",
    "version": 3
   },
   "file_extension": ".py",
   "mimetype": "text/x-python",
   "name": "python",
   "nbconvert_exporter": "python",
   "pygments_lexer": "ipython3",
   "version": "3.7.3"
  }
 },
 "nbformat": 4,
 "nbformat_minor": 2
}
